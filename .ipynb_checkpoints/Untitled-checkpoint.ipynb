{
 "cells": [
  {
   "cell_type": "markdown",
   "metadata": {},
   "source": [
    "## Assessing a set of additive utility functions for multicriteria decision-making, the UTA method.\n",
    "\n",
    "### Implementação e Estudo do artigo publicado por E.JACQUET-LAGREZE e J.SISKOS\n",
    "\n",
    "#### Daniel de Araujo Pereira"
   ]
  },
  {
   "cell_type": "markdown",
   "metadata": {},
   "source": [
    "### 1. Funções aditivas e assesment procedures\n",
    "\n",
    "1.1 - Funções aditivas de utilidade\n",
    "\n",
    "Para um conjunto de ações (alternativas, estimulos) A é avaliado por um conjunto de critérios $g = (g_1,g_2,...,g_n)$.  Esses critérios são agregados em um unico critério que representa a preferencial geral de um individuo(o tomador da decisão). Essa agregação é a função de utilidade.\n",
    "$$ U(g) = U(g_1,g_2,...,g_n)$$\n",
    "\n",
    "Chamamos de **P** a relação de preferencia e **I** a de indiferença. Ou seja, se a relação multi-critério da ação *a* é $g(a) = [g_1(a),g_2(a),...,g_n(a)]$ então temos as seguintes propriedades:\n",
    "\n",
    "Se o individuo prefere *a* a *b* temos que as funções de utilidade abaixo:\n",
    "\n",
    "$$ U[g(a)] > U[g(b)] <--> aPb $$\n",
    "\n",
    "Mas se o tomador de decisão é indiferente quanto as ações, temos a relação\n",
    "$$ U[g(a)] = U[g(b)] <--> aIb $$\n",
    "\n",
    "De modo que se a o individuo prefere uma ação a outra, a função de utilidade **deve** ser maior para a ação preferida.\n",
    "\n",
    "A função de utilidade é aditiva se ela for da forma:\n",
    "\n",
    "$$U(g) = \\sum(u_i(g_i))$$\n",
    "\n",
    "Na pratica a forma mais usada é a sua forma linear de soma ponderada\n",
    "\n",
    "$$U(g) = \\sum(p_i(g_i))$$\n",
    "\n",
    "Na qual cada utilidade marginal $u_i(g_i)$ é inteiramente definida pelos critérios $g_i$ e peso $p_i$.\n",
    "Normalmente se normaliza a função utilidade, ou seja:\n",
    "\n",
    "$$U(g) = \\sum p_i w_i(g_i)$$ onde $w_i(g_i) = u_i(g_i)/p_i$ para qualquer $i$ e os fatores $p$ são os pesos dos critérios.\n",
    "\n",
    "$g^*_i$ é o maior valor do critério $i$ e $g_i*$ é o pior valor. De modo que a normalização mais comum é:\n",
    "\n",
    "\n",
    "$$ \\sum p_i = 1$$\n",
    "$$ w_i(g_i * ) = 0$$\n",
    "$$w_i(g^*_i) = 1 $$\n",
    "\n",
    "As utilidades marginais são funções monotonicas e nao decrescentes the $g$. Os pesos também podem ser considerados como importancia relativa de cada critétio."
   ]
  },
  {
   "cell_type": "markdown",
   "metadata": {},
   "source": [
    "### 2. Desenvolvimento do método UTA\n",
    "\n",
    "2.1. Input dos dados"
   ]
  }
 ],
 "metadata": {
  "anaconda-cloud": {},
  "kernelspec": {
   "display_name": "Python [Root]",
   "language": "python",
   "name": "Python [Root]"
  },
  "language_info": {
   "codemirror_mode": {
    "name": "ipython",
    "version": 3
   },
   "file_extension": ".py",
   "mimetype": "text/x-python",
   "name": "python",
   "nbconvert_exporter": "python",
   "pygments_lexer": "ipython3",
   "version": "3.5.2"
  }
 },
 "nbformat": 4,
 "nbformat_minor": 0
}
