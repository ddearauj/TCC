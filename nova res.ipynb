{
 "cells": [
  {
   "cell_type": "code",
   "execution_count": 41,
   "metadata": {
    "collapsed": false
   },
   "outputs": [
    {
     "data": {
      "text/html": [
       "<div>\n",
       "<table border=\"1\" class=\"dataframe\">\n",
       "  <thead>\n",
       "    <tr style=\"text-align: right;\">\n",
       "      <th></th>\n",
       "      <th>car</th>\n",
       "      <th>rank</th>\n",
       "      <th>max_speed</th>\n",
       "      <th>consumption_town</th>\n",
       "      <th>consumption_road</th>\n",
       "      <th>horse_power</th>\n",
       "      <th>space</th>\n",
       "      <th>price</th>\n",
       "    </tr>\n",
       "  </thead>\n",
       "  <tbody>\n",
       "    <tr>\n",
       "      <th>0</th>\n",
       "      <td>Peugeot 505 GR</td>\n",
       "      <td>1</td>\n",
       "      <td>173</td>\n",
       "      <td>11.4</td>\n",
       "      <td>10.01</td>\n",
       "      <td>10</td>\n",
       "      <td>7.88</td>\n",
       "      <td>49500</td>\n",
       "    </tr>\n",
       "    <tr>\n",
       "      <th>1</th>\n",
       "      <td>Opel Record 2000 LS</td>\n",
       "      <td>2</td>\n",
       "      <td>176</td>\n",
       "      <td>12.3</td>\n",
       "      <td>10.48</td>\n",
       "      <td>11</td>\n",
       "      <td>7.96</td>\n",
       "      <td>46700</td>\n",
       "    </tr>\n",
       "    <tr>\n",
       "      <th>2</th>\n",
       "      <td>Citroen Visa Super E</td>\n",
       "      <td>3</td>\n",
       "      <td>142</td>\n",
       "      <td>8.2</td>\n",
       "      <td>7.30</td>\n",
       "      <td>5</td>\n",
       "      <td>5.65</td>\n",
       "      <td>32100</td>\n",
       "    </tr>\n",
       "    <tr>\n",
       "      <th>3</th>\n",
       "      <td>VW Golf 1300 GLS</td>\n",
       "      <td>4</td>\n",
       "      <td>148</td>\n",
       "      <td>10.5</td>\n",
       "      <td>9.61</td>\n",
       "      <td>7</td>\n",
       "      <td>6.15</td>\n",
       "      <td>39150</td>\n",
       "    </tr>\n",
       "    <tr>\n",
       "      <th>4</th>\n",
       "      <td>Citroen CX 2400 Pallas</td>\n",
       "      <td>5</td>\n",
       "      <td>178</td>\n",
       "      <td>14.5</td>\n",
       "      <td>11.05</td>\n",
       "      <td>13</td>\n",
       "      <td>8.06</td>\n",
       "      <td>64700</td>\n",
       "    </tr>\n",
       "    <tr>\n",
       "      <th>5</th>\n",
       "      <td>Mercedes 230</td>\n",
       "      <td>6</td>\n",
       "      <td>180</td>\n",
       "      <td>13.6</td>\n",
       "      <td>10.40</td>\n",
       "      <td>13</td>\n",
       "      <td>8.47</td>\n",
       "      <td>75700</td>\n",
       "    </tr>\n",
       "    <tr>\n",
       "      <th>6</th>\n",
       "      <td>BMW 520</td>\n",
       "      <td>7</td>\n",
       "      <td>182</td>\n",
       "      <td>12.7</td>\n",
       "      <td>12.26</td>\n",
       "      <td>11</td>\n",
       "      <td>7.81</td>\n",
       "      <td>68593</td>\n",
       "    </tr>\n",
       "    <tr>\n",
       "      <th>7</th>\n",
       "      <td>Volvo 244 DL</td>\n",
       "      <td>8</td>\n",
       "      <td>145</td>\n",
       "      <td>14.3</td>\n",
       "      <td>12.95</td>\n",
       "      <td>11</td>\n",
       "      <td>8.38</td>\n",
       "      <td>55000</td>\n",
       "    </tr>\n",
       "    <tr>\n",
       "      <th>8</th>\n",
       "      <td>Peugeot 104 ZS</td>\n",
       "      <td>9</td>\n",
       "      <td>161</td>\n",
       "      <td>8.6</td>\n",
       "      <td>8.42</td>\n",
       "      <td>7</td>\n",
       "      <td>5.11</td>\n",
       "      <td>35200</td>\n",
       "    </tr>\n",
       "    <tr>\n",
       "      <th>9</th>\n",
       "      <td>Citroen Dyane</td>\n",
       "      <td>10</td>\n",
       "      <td>117</td>\n",
       "      <td>7.2</td>\n",
       "      <td>6.75</td>\n",
       "      <td>3</td>\n",
       "      <td>5.81</td>\n",
       "      <td>24800</td>\n",
       "    </tr>\n",
       "  </tbody>\n",
       "</table>\n",
       "</div>"
      ],
      "text/plain": [
       "                      car  rank  max_speed  consumption_town  \\\n",
       "0          Peugeot 505 GR     1        173              11.4   \n",
       "1     Opel Record 2000 LS     2        176              12.3   \n",
       "2    Citroen Visa Super E     3        142               8.2   \n",
       "3        VW Golf 1300 GLS     4        148              10.5   \n",
       "4  Citroen CX 2400 Pallas     5        178              14.5   \n",
       "5            Mercedes 230     6        180              13.6   \n",
       "6                 BMW 520     7        182              12.7   \n",
       "7            Volvo 244 DL     8        145              14.3   \n",
       "8          Peugeot 104 ZS     9        161               8.6   \n",
       "9           Citroen Dyane    10        117               7.2   \n",
       "\n",
       "   consumption_road  horse_power  space  price  \n",
       "0             10.01           10   7.88  49500  \n",
       "1             10.48           11   7.96  46700  \n",
       "2              7.30            5   5.65  32100  \n",
       "3              9.61            7   6.15  39150  \n",
       "4             11.05           13   8.06  64700  \n",
       "5             10.40           13   8.47  75700  \n",
       "6             12.26           11   7.81  68593  \n",
       "7             12.95           11   8.38  55000  \n",
       "8              8.42            7   5.11  35200  \n",
       "9              6.75            3   5.81  24800  "
      ]
     },
     "execution_count": 41,
     "metadata": {},
     "output_type": "execute_result"
    }
   ],
   "source": [
    "import pandas as pd\n",
    "from pandas import read_csv\n",
    "\n",
    "my_data = read_csv('cars.csv', encoding = 'ISO-8859-1')\n",
    "my_data.head(10)"
   ]
  },
  {
   "cell_type": "code",
   "execution_count": 42,
   "metadata": {
    "collapsed": false
   },
   "outputs": [
    {
     "data": {
      "text/html": [
       "<div>\n",
       "<table border=\"1\" class=\"dataframe\">\n",
       "  <thead>\n",
       "    <tr style=\"text-align: right;\">\n",
       "      <th></th>\n",
       "      <th>g_i*</th>\n",
       "      <th>g_i^*</th>\n",
       "      <th>a_i</th>\n",
       "      <th>s_i</th>\n",
       "    </tr>\n",
       "  </thead>\n",
       "  <tbody>\n",
       "    <tr>\n",
       "      <th>max_speed</th>\n",
       "      <td>110</td>\n",
       "      <td>190</td>\n",
       "      <td>5</td>\n",
       "      <td>0</td>\n",
       "    </tr>\n",
       "    <tr>\n",
       "      <th>consumption_town</th>\n",
       "      <td>-15</td>\n",
       "      <td>-7</td>\n",
       "      <td>4</td>\n",
       "      <td>0</td>\n",
       "    </tr>\n",
       "    <tr>\n",
       "      <th>consumption_road</th>\n",
       "      <td>-13</td>\n",
       "      <td>-6</td>\n",
       "      <td>4</td>\n",
       "      <td>0</td>\n",
       "    </tr>\n",
       "    <tr>\n",
       "      <th>horse_power</th>\n",
       "      <td>3</td>\n",
       "      <td>13</td>\n",
       "      <td>5</td>\n",
       "      <td>0</td>\n",
       "    </tr>\n",
       "    <tr>\n",
       "      <th>space</th>\n",
       "      <td>5</td>\n",
       "      <td>9</td>\n",
       "      <td>4</td>\n",
       "      <td>0</td>\n",
       "    </tr>\n",
       "    <tr>\n",
       "      <th>price</th>\n",
       "      <td>-80000</td>\n",
       "      <td>-20000</td>\n",
       "      <td>5</td>\n",
       "      <td>0</td>\n",
       "    </tr>\n",
       "  </tbody>\n",
       "</table>\n",
       "</div>"
      ],
      "text/plain": [
       "                   g_i*  g_i^*  a_i  s_i\n",
       "max_speed           110    190    5    0\n",
       "consumption_town    -15     -7    4    0\n",
       "consumption_road    -13     -6    4    0\n",
       "horse_power           3     13    5    0\n",
       "space                 5      9    4    0\n",
       "price            -80000 -20000    5    0"
      ]
     },
     "execution_count": 42,
     "metadata": {},
     "output_type": "execute_result"
    }
   ],
   "source": [
    "my_g = read_csv('criteria.csv', encoding = 'ISO-8859-1')\n",
    "#criteria\n",
    "my_g = my_g.rename({0: 'max_speed',\n",
    "                    1: 'consumption_town',\n",
    "                    2: 'consumption_road',\n",
    "                    3: 'horse_power',\n",
    "                    4: 'space',\n",
    "                    5: 'price'\n",
    "                   })\n",
    "my_g.head(6)"
   ]
  },
  {
   "cell_type": "code",
   "execution_count": 75,
   "metadata": {
    "collapsed": true
   },
   "outputs": [],
   "source": [
    "# create the marginal utlities intervals\n",
    "\n",
    "def get_gj_gj1(G, ga):\n",
    "    for idx, gj in enumerate(G):\n",
    "        if ga < gj:\n",
    "            gj1_index = idx\n",
    "            gj_index  = idx - 1\n",
    "            return G[gj_index], G[gj1_index]\n",
    "\n",
    "    return None \n",
    "        \n",
    "def marginal_utility(G, ga):\n",
    "    \"\"\" G is the list containing all the splits for the criterion g, going from gi* to g*i \"\"\"\n",
    "    \n",
    "    #first we must find gj and gj+1 that has ga in between them\n",
    "    gj, gj1 = get_gj_gj1(G, ga)\n",
    "    \n",
    "    print(gj, gj1)\n",
    "    \n",
    "    #now we get the coeficients of gj, gj1 that makes the marginal utility\n",
    "    ui_gj1 = (ga - gj)/(gj1 - gj)\n",
    "    ui_gj = 1 - ui_gj1\n",
    "    \n",
    "    return ui_gj, ui_gj1\n",
    "\n",
    "def get_G(gmin, gmax, alpha):\n",
    "    G = []\n",
    "    gi = gmin\n",
    "    step = (gmax - gmin)/(alpha - 1)\n",
    "    G.append(gmin)\n",
    "    \n",
    "    for j in range(alpha - 1):\n",
    "        gi = (gi + step)\n",
    "        G.append(gi)\n",
    "        \n",
    "    return G"
   ]
  },
  {
   "cell_type": "code",
   "execution_count": 70,
   "metadata": {
    "collapsed": false
   },
   "outputs": [
    {
     "data": {
      "text/plain": [
       "[80000, 65000.0, 50000.0, 35000.0, 20000.0]"
      ]
     },
     "execution_count": 70,
     "metadata": {},
     "output_type": "execute_result"
    }
   ],
   "source": [
    "get_G(80000, 20000, 5)"
   ]
  },
  {
   "cell_type": "code",
   "execution_count": 78,
   "metadata": {
    "collapsed": false
   },
   "outputs": [
    {
     "data": {
      "text/plain": [
       "(6.0, 13.0)"
      ]
     },
     "execution_count": 78,
     "metadata": {},
     "output_type": "execute_result"
    }
   ],
   "source": [
    "get_gj_gj1([13.00,10.67,8.33,6.00], 10.01)"
   ]
  },
  {
   "cell_type": "code",
   "execution_count": 88,
   "metadata": {
    "collapsed": false
   },
   "outputs": [
    {
     "name": "stdout",
     "output_type": "stream",
     "text": [
      "7.67 9.0\n"
     ]
    },
    {
     "data": {
      "text/plain": [
       "(0.8421052631578948, 0.15789473684210523)"
      ]
     },
     "execution_count": 88,
     "metadata": {},
     "output_type": "execute_result"
    }
   ],
   "source": [
    "marginal_utility([5.00,6.33,7.67,9.00], 7.88)"
   ]
  },
  {
   "cell_type": "code",
   "execution_count": 92,
   "metadata": {
    "collapsed": true
   },
   "outputs": [],
   "source": [
    "GSpeed = [110,130,150,170,190]\n",
    "GTown  = [-15.00,-12.33,-9.67,-7.00]\n",
    "GRoad  = [-13.00,-10.67,-8.33,-6.00]\n",
    "GHorse = [3.0,5.5,8.0,10.5,13.0]\n",
    "GSpace = [5.00,6.33,7.67,9.00]\n",
    "GPrice = [-80000,-65000,-50000,-35000,-20000]\n",
    "\n"
   ]
  },
  {
   "cell_type": "code",
   "execution_count": 105,
   "metadata": {
    "collapsed": false
   },
   "outputs": [
    {
     "name": "stdout",
     "output_type": "stream",
     "text": [
      "110 130\n",
      "(0.65, 0.35)\n",
      "-9.67 -7.0\n",
      "(0.07490636704119857, 0.9250936329588014)\n",
      "-8.33 -6.0\n",
      "(0.32188841201716734, 0.6781115879828327)\n",
      "3.0 5.5\n",
      "(1.0, 0.0)\n",
      "5.0 6.33\n",
      "(0.39097744360902287, 0.6090225563909771)\n",
      "-35000 -20000\n",
      "(0.31999999999999995, 0.68)\n"
     ]
    }
   ],
   "source": [
    "print(marginal_utility(GSpeed, 117))\n",
    "print(marginal_utility(GTown, -7.2))\n",
    "print(marginal_utility(GRoad, -6.75))\n",
    "print(marginal_utility(GHorse, 3))\n",
    "print(marginal_utility(GSpace, 5.81))\n",
    "print(marginal_utility(GPrice, -24800))"
   ]
  },
  {
   "cell_type": "code",
   "execution_count": null,
   "metadata": {
    "collapsed": true
   },
   "outputs": [],
   "source": [
    "117\t7.2\t6.75\t3\t5.81\t24800\n"
   ]
  }
 ],
 "metadata": {
  "anaconda-cloud": {},
  "kernelspec": {
   "display_name": "Python [Root]",
   "language": "python",
   "name": "Python [Root]"
  },
  "language_info": {
   "codemirror_mode": {
    "name": "ipython",
    "version": 3
   },
   "file_extension": ".py",
   "mimetype": "text/x-python",
   "name": "python",
   "nbconvert_exporter": "python",
   "pygments_lexer": "ipython3",
   "version": "3.5.2"
  }
 },
 "nbformat": 4,
 "nbformat_minor": 0
}
